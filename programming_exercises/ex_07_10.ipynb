{
 "cells": [
  {
   "cell_type": "markdown",
   "metadata": {},
   "source": [
    "# Exercise 7.10"
   ]
  },
  {
   "cell_type": "markdown",
   "metadata": {},
   "source": [
    "I am using the random walk problem introduced in the book, but with a behavior policy different than (0.5,0.5). I also included the *stay* action, that leaves the agent at the same place."
   ]
  },
  {
   "cell_type": "code",
   "execution_count": 1,
   "metadata": {},
   "outputs": [],
   "source": [
    "import numpy as np\n",
    "import matplotlib.pyplot as plt\n",
    "np.random.seed(0)"
   ]
  },
  {
   "cell_type": "code",
   "execution_count": 2,
   "metadata": {},
   "outputs": [],
   "source": [
    "class RandomWalkEnv:\n",
    "\tdef __init__(self):\n",
    "\t\tnum_states = 5\n",
    "\t\tself.states = np.arange(1, num_states + 1)  # Non-terminal states\n",
    "\t\tself.start_state = num_states // 2\n",
    "\t\tself.terminal_rewards = {0: 0, num_states + 1: 1}\n",
    "\t\n",
    "\tdef reset(self):\n",
    "\t\tself.current_state = self.start_state\n",
    "\t\treturn self.current_state\n",
    "\n",
    "\tdef step(self, action):\n",
    "\t\t# Move randomly left or right\n",
    "\t\tif action == \"left\":\n",
    "\t\t\tself.current_state -= 1\n",
    "\t\telif action == \"right\":\n",
    "\t\t\tself.current_state += 1\n",
    "\t\telif action == \"stay\":\n",
    "\t\t\tself.current_state += 0\n",
    "\t\telse:\n",
    "\t\t\traise ValueError(\"Invalid action\")\n",
    "\t\tif self.current_state in self.terminal_rewards:\n",
    "\t\t\treward = self.terminal_rewards[self.current_state]\n",
    "\t\t\tdone = True\n",
    "\t\telse:\n",
    "\t\t\treward = 0\n",
    "\t\t\tdone = False\n",
    "\t\treturn self.current_state, reward, done"
   ]
  },
  {
   "cell_type": "code",
   "execution_count": 3,
   "metadata": {},
   "outputs": [
    {
     "data": {
      "text/plain": [
       "array([0.16666667, 0.33333333, 0.5       , 0.66666667, 0.83333333])"
      ]
     },
     "execution_count": 3,
     "metadata": {},
     "output_type": "execute_result"
    }
   ],
   "source": [
    "def get_real_v(probs):\n",
    "\tpr = probs[\"right\"]\n",
    "\tA = np.array([\n",
    "\t\t[-1, pr, 0, 0, 0],\n",
    "\t\t[1 - pr, -1, pr, 0, 0],\n",
    "\t\t[0, 1 - pr, -1, pr, 0],\n",
    "\t\t[0, 0, 1 - pr, -1, pr],\n",
    "\t\t[0, 0, 0, 1 - pr, -1]\n",
    "\t])\n",
    "\tb = np.array([0, 0, 0, 0, -pr])\n",
    "\treturn np.linalg.solve(A, b)\n",
    "\n",
    "get_real_v({\"right\": 0.5})"
   ]
  },
  {
   "cell_type": "code",
   "execution_count": 4,
   "metadata": {},
   "outputs": [],
   "source": [
    "b_probs = {\n",
    "\t'left': 0.4,\n",
    "\t'right': 0.4,\n",
    "\t'stay': 0.2\n",
    "}\n",
    "\n",
    "# Target policy\n",
    "pi_probs = {\n",
    "\t'left': 0.5,\n",
    "\t'right': 0.5,\n",
    "\t'stay': 0.0\n",
    "}\n",
    "\n",
    "def generate_action(probs):\n",
    "\treturn np.random.choice(list(probs.keys()), p=list(probs.values()))\n",
    "\n",
    "def rho(pi_probs, b_probs, action):\n",
    "\treturn pi_probs[action] / b_probs[action]"
   ]
  },
  {
   "cell_type": "markdown",
   "metadata": {},
   "source": [
    "Disclaimer: there might be bugs present in the form of one-off indexing errors"
   ]
  },
  {
   "cell_type": "code",
   "execution_count": 5,
   "metadata": {},
   "outputs": [],
   "source": [
    "class Base_class_algorithm():\n",
    "    def __init__(self, env, b_probs, pi_probs):\n",
    "        self.env = env\n",
    "        self.b_probs = b_probs\n",
    "        self.pi_probs = pi_probs\n",
    "        self.V = np.zeros(len(env.states) + 2)\n",
    "    \n",
    "    def reset(self):\n",
    "        self.V = np.zeros(len(self.env.states) + 2)\n",
    "    \n",
    "    def generate_and_learn(self, num_episodes, alpha, n, gamma, real_V):\n",
    "        mse = []\n",
    "        for _ in range(num_episodes):\n",
    "            states = []\n",
    "            actions = []\n",
    "            rewards = [0] # just for indexing\n",
    "            rhos = []\n",
    "            \n",
    "            states.append(self.env.reset())\n",
    "            T = float('inf')\n",
    "            t = 0\n",
    "            while True:\n",
    "                if t < T:\n",
    "                    action = generate_action(self.b_probs)\n",
    "                    rhos.append(rho(self.pi_probs, self.b_probs, action))\n",
    "                    next_state, reward, done = self.env.step(action)\n",
    "                    actions.append(action)\n",
    "                    rewards.append(reward)\n",
    "                    states.append(next_state)\n",
    "                    if done:\n",
    "                        T = t + 1\n",
    "\n",
    "                tau = t - n + 1\n",
    "                if tau >= 0:\n",
    "                    self.update(tau, alpha, gamma, n, T, states, rewards, rhos)\n",
    "\n",
    "                if tau == T - 1:\n",
    "                    break\n",
    "                t += 1\n",
    "            mse.append(np.mean(np.square(self.V[1:-1] - real_V)))\n",
    "        return mse\n",
    "\n",
    "    \n",
    "    def update(self, tau, alpha, gamma, n, T, states, rewards, rhos):\n",
    "        pass"
   ]
  },
  {
   "cell_type": "code",
   "execution_count": 6,
   "metadata": {},
   "outputs": [],
   "source": [
    "class Simple_algorithm(Base_class_algorithm):\n",
    "    def update(self, tau, alpha, gamma, n, T, states, rewards, rhos):\n",
    "        G = 0\n",
    "        loop_end = min(n, T - tau) \n",
    "        for i in range(loop_end):\n",
    "            G += gamma ** i * rewards[tau + i + 1]\n",
    "        G += gamma ** loop_end * self.V[states[tau + loop_end]]\n",
    "\n",
    "        rho_prod = 1\n",
    "        for i in range(tau, min(tau + n, T)):\n",
    "            rho_prod *= rhos[i]\n",
    "        \n",
    "        self.V[states[tau]] += alpha * rho_prod * (G - self.V[states[tau]])"
   ]
  },
  {
   "cell_type": "code",
   "execution_count": 7,
   "metadata": {},
   "outputs": [],
   "source": [
    "class Control_variate_algorithm(Base_class_algorithm):\n",
    "    def update(self, tau, alpha, gamma, n, T, states, rewards, rhos):\n",
    "        G = self.get_G(tau, tau + n, gamma, T, states, rewards, rhos)\n",
    "        self.V[states[tau]] += alpha * (G - self.V[states[tau]])\n",
    "\n",
    "    def get_G(self, t, h, gamma, T, states, rewards, rhos):\n",
    "        if t == h:\n",
    "            return self.V[states[h]]\n",
    "        elif t == T:\n",
    "            return 0\n",
    "        else:\n",
    "            return rhos[t] * (rewards[t + 1] + gamma * self.get_G(t + 1, h, gamma, T, states, rewards, rhos)) + (1 - rhos[t]) * self.V[states[t]]"
   ]
  },
  {
   "cell_type": "code",
   "execution_count": 8,
   "metadata": {},
   "outputs": [
    {
     "data": {
      "image/png": "[encoded data removed]",
      "text/plain": [
       "<Figure size 640x480 with 1 Axes>"
      ]
     },
     "metadata": {},
     "output_type": "display_data"
    }
   ],
   "source": [
    "# Parameters\n",
    "alpha = 0.01          # Learning rate\n",
    "gamma = 1.0          # Discount factor\n",
    "num_episodes = 100  # Number of episodes\n",
    "num_runs = 100       # Number of runs\n",
    "n = 4                # Number of steps for n-step TD\n",
    "\n",
    "mean_mse_simple = np.zeros(num_episodes)\n",
    "mean_mse_control = np.zeros(num_episodes)\n",
    "# Real state values\n",
    "real_V = get_real_v(pi_probs)\n",
    "simple_algo = Simple_algorithm(RandomWalkEnv(), b_probs, pi_probs)\n",
    "control_algo = Control_variate_algorithm(RandomWalkEnv(), b_probs, pi_probs)\n",
    "\n",
    "for i in range(num_runs):\n",
    "    simple_algo.reset()\n",
    "    control_algo.reset()\n",
    "\n",
    "    mean_mse_simple += simple_algo.generate_and_learn(num_episodes, alpha, n, gamma, real_V)\n",
    "    mean_mse_control += control_algo.generate_and_learn(num_episodes, alpha, n, gamma, real_V)\n",
    "\n",
    "mean_mse_simple /= num_runs\n",
    "mean_mse_control /= num_runs\n",
    "\n",
    "plt.plot(mean_mse_simple, label=\"Simple\")\n",
    "plt.plot(mean_mse_control, label=\"Control variate\")\n",
    "plt.xlabel(\"Episodes\")\n",
    "plt.ylabel(\"Mean Squared Error\")\n",
    "plt.legend()\n",
    "plt.tight_layout()\n",
    "plt.savefig(\"../chapters_latex/figures/ex_07_10.pdf\")\n",
    "plt.show()"
   ]
  }
 ],
 "metadata": {
  "kernelspec": {
   "display_name": ".venv",
   "language": "python",
   "name": "python3"
  },
  "language_info": {
   "codemirror_mode": {
    "name": "ipython",
    "version": 3
   },
   "file_extension": ".py",
   "mimetype": "text/x-python",
   "name": "python",
   "nbconvert_exporter": "python",
   "pygments_lexer": "ipython3",
   "version": "3.12.2"
  }
 },
 "nbformat": 4,
 "nbformat_minor": 2
}
